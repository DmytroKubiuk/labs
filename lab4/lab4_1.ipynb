{
 "cells": [
  {
   "cell_type": "code",
   "execution_count": 6,
   "id": "d2c04e68",
   "metadata": {},
   "outputs": [],
   "source": [
    "import pandas as pd\n",
    "import numpy as np\n",
    "\n",
    "filepath = \"individual+household+electric+power+consumption/household_power_consumption.txt\""
   ]
  },
  {
   "cell_type": "markdown",
   "id": "13ae5b91",
   "metadata": {},
   "source": [
    "Завантаження даних"
   ]
  },
  {
   "cell_type": "markdown",
   "id": "bc668919",
   "metadata": {},
   "source": [
    "Pandas"
   ]
  },
  {
   "cell_type": "code",
   "execution_count": 7,
   "id": "88fdf37a",
   "metadata": {},
   "outputs": [
    {
     "name": "stderr",
     "output_type": "stream",
     "text": [
      "C:\\Users\\someone\\AppData\\Local\\Temp\\ipykernel_1124\\3488870541.py:1: UserWarning: Parsing dates in %d/%m/%Y format when dayfirst=False (the default) was specified. Pass `dayfirst=True` or specify a format to silence this warning.\n",
      "  dfp = pd.read_csv(filepath, sep=';', na_values='?', parse_dates=['Date'])\n"
     ]
    },
    {
     "data": {
      "text/html": [
       "<div>\n",
       "<style scoped>\n",
       "    .dataframe tbody tr th:only-of-type {\n",
       "        vertical-align: middle;\n",
       "    }\n",
       "\n",
       "    .dataframe tbody tr th {\n",
       "        vertical-align: top;\n",
       "    }\n",
       "\n",
       "    .dataframe thead th {\n",
       "        text-align: right;\n",
       "    }\n",
       "</style>\n",
       "<table border=\"1\" class=\"dataframe\">\n",
       "  <thead>\n",
       "    <tr style=\"text-align: right;\">\n",
       "      <th></th>\n",
       "      <th>Date</th>\n",
       "      <th>Time</th>\n",
       "      <th>Global_active_power</th>\n",
       "      <th>Global_reactive_power</th>\n",
       "      <th>Voltage</th>\n",
       "      <th>Global_intensity</th>\n",
       "      <th>Sub_metering_1</th>\n",
       "      <th>Sub_metering_2</th>\n",
       "      <th>Sub_metering_3</th>\n",
       "    </tr>\n",
       "  </thead>\n",
       "  <tbody>\n",
       "    <tr>\n",
       "      <th>0</th>\n",
       "      <td>2006-12-16</td>\n",
       "      <td>17:24:00</td>\n",
       "      <td>4.216</td>\n",
       "      <td>0.418</td>\n",
       "      <td>234.84</td>\n",
       "      <td>18.4</td>\n",
       "      <td>0.0</td>\n",
       "      <td>1.0</td>\n",
       "      <td>17.0</td>\n",
       "    </tr>\n",
       "    <tr>\n",
       "      <th>1</th>\n",
       "      <td>2006-12-16</td>\n",
       "      <td>17:25:00</td>\n",
       "      <td>5.360</td>\n",
       "      <td>0.436</td>\n",
       "      <td>233.63</td>\n",
       "      <td>23.0</td>\n",
       "      <td>0.0</td>\n",
       "      <td>1.0</td>\n",
       "      <td>16.0</td>\n",
       "    </tr>\n",
       "    <tr>\n",
       "      <th>2</th>\n",
       "      <td>2006-12-16</td>\n",
       "      <td>17:26:00</td>\n",
       "      <td>5.374</td>\n",
       "      <td>0.498</td>\n",
       "      <td>233.29</td>\n",
       "      <td>23.0</td>\n",
       "      <td>0.0</td>\n",
       "      <td>2.0</td>\n",
       "      <td>17.0</td>\n",
       "    </tr>\n",
       "    <tr>\n",
       "      <th>3</th>\n",
       "      <td>2006-12-16</td>\n",
       "      <td>17:27:00</td>\n",
       "      <td>5.388</td>\n",
       "      <td>0.502</td>\n",
       "      <td>233.74</td>\n",
       "      <td>23.0</td>\n",
       "      <td>0.0</td>\n",
       "      <td>1.0</td>\n",
       "      <td>17.0</td>\n",
       "    </tr>\n",
       "    <tr>\n",
       "      <th>4</th>\n",
       "      <td>2006-12-16</td>\n",
       "      <td>17:28:00</td>\n",
       "      <td>3.666</td>\n",
       "      <td>0.528</td>\n",
       "      <td>235.68</td>\n",
       "      <td>15.8</td>\n",
       "      <td>0.0</td>\n",
       "      <td>1.0</td>\n",
       "      <td>17.0</td>\n",
       "    </tr>\n",
       "  </tbody>\n",
       "</table>\n",
       "</div>"
      ],
      "text/plain": [
       "        Date      Time  Global_active_power  Global_reactive_power  Voltage  \\\n",
       "0 2006-12-16  17:24:00                4.216                  0.418   234.84   \n",
       "1 2006-12-16  17:25:00                5.360                  0.436   233.63   \n",
       "2 2006-12-16  17:26:00                5.374                  0.498   233.29   \n",
       "3 2006-12-16  17:27:00                5.388                  0.502   233.74   \n",
       "4 2006-12-16  17:28:00                3.666                  0.528   235.68   \n",
       "\n",
       "   Global_intensity  Sub_metering_1  Sub_metering_2  Sub_metering_3  \n",
       "0              18.4             0.0             1.0            17.0  \n",
       "1              23.0             0.0             1.0            16.0  \n",
       "2              23.0             0.0             2.0            17.0  \n",
       "3              23.0             0.0             1.0            17.0  \n",
       "4              15.8             0.0             1.0            17.0  "
      ]
     },
     "execution_count": 7,
     "metadata": {},
     "output_type": "execute_result"
    }
   ],
   "source": [
    "dfp = pd.read_csv(filepath, sep=';', na_values='?', parse_dates=['Date'])\n",
    "\n",
    "dfp['Time'] = pd.to_datetime(dfp['Time'], format='%H:%M:%S').dt.time\n",
    "dfp[\"Global_active_power\"].astype(float)\n",
    "dfp[\"Voltage\"].astype(float)\n",
    "dfp[\"Global_intensity\"].astype(float)\n",
    "dfp[\"Sub_metering_1\"].astype(float)\n",
    "dfp[\"Sub_metering_2\"].astype(float)\n",
    "dfp[\"Sub_metering_3\"].astype(float)\n",
    "\n",
    "dfp.dropna(inplace=True)\n",
    "dfp.head()"
   ]
  },
  {
   "cell_type": "markdown",
   "id": "b7c6d1cb",
   "metadata": {},
   "source": [
    "NumPy"
   ]
  },
  {
   "cell_type": "code",
   "execution_count": 33,
   "id": "23f0147c",
   "metadata": {},
   "outputs": [
    {
     "name": "stdout",
     "output_type": "stream",
     "text": [
      "[('16/12/2006', '17:24:00', 4.216, 0.418, 234.84, 18.4, 0., 1., 17.)\n",
      " ('16/12/2006', '17:25:00', 5.36 , 0.436, 233.63, 23. , 0., 1., 16.)\n",
      " ('16/12/2006', '17:26:00', 5.374, 0.498, 233.29, 23. , 0., 2., 17.)\n",
      " ('16/12/2006', '17:27:00', 5.388, 0.502, 233.74, 23. , 0., 1., 17.)\n",
      " ('16/12/2006', '17:28:00', 3.666, 0.528, 235.68, 15.8, 0., 1., 17.)]\n"
     ]
    }
   ],
   "source": [
    "types = [(\"Date\", \"U10\"), (\"Time\", \"U8\"), (\"Global_active_power\",\n",
    "\"float64\"), (\"Global_reactive_power\", \"float64\"), (\"Voltage\",\n",
    "\"float64\"), (\"Global_intensity\", \"float64\"), (\"Sub_metering_1\",\n",
    "\"float64\"), (\"Sub_metering_2\", \"float64\"), (\"Sub_metering_3\",\n",
    "\"float64\")]\n",
    "\n",
    "dfn = np.genfromtxt(filepath, missing_values=[\"?\",np.nan], delimiter=';', dtype=types, encoding=\"UTF=8\", names=True)\n",
    "\n",
    "numeric_data = np.column_stack((dfn['Global_active_power'], dfn['Global_reactive_power'], dfn['Voltage'], \n",
    "                                dfn['Global_intensity'], dfn['Sub_metering_1'], dfn['Sub_metering_2'], dfn['Sub_metering_3']))\n",
    "\n",
    "dfn = dfn[~np.isnan(numeric_data).any(axis=1)]\n",
    "\n",
    "print(dfn[:5])"
   ]
  },
  {
   "cell_type": "markdown",
   "id": "ae74c4dc",
   "metadata": {},
   "source": [
    "Обрати всі записи, у яких загальна активна споживана потужність перевищує 5 кВт."
   ]
  },
  {
   "cell_type": "markdown",
   "id": "b3bfb3c7",
   "metadata": {},
   "source": [
    "Pandas"
   ]
  },
  {
   "cell_type": "code",
   "execution_count": 25,
   "id": "9e866a57",
   "metadata": {},
   "outputs": [
    {
     "name": "stdout",
     "output_type": "stream",
     "text": [
      "CPU times: total: 0 ns\n",
      "Wall time: 7.61 ms\n"
     ]
    },
    {
     "data": {
      "text/html": [
       "<div>\n",
       "<style scoped>\n",
       "    .dataframe tbody tr th:only-of-type {\n",
       "        vertical-align: middle;\n",
       "    }\n",
       "\n",
       "    .dataframe tbody tr th {\n",
       "        vertical-align: top;\n",
       "    }\n",
       "\n",
       "    .dataframe thead th {\n",
       "        text-align: right;\n",
       "    }\n",
       "</style>\n",
       "<table border=\"1\" class=\"dataframe\">\n",
       "  <thead>\n",
       "    <tr style=\"text-align: right;\">\n",
       "      <th></th>\n",
       "      <th>Date</th>\n",
       "      <th>Time</th>\n",
       "      <th>Global_active_power</th>\n",
       "      <th>Global_reactive_power</th>\n",
       "      <th>Voltage</th>\n",
       "      <th>Global_intensity</th>\n",
       "      <th>Sub_metering_1</th>\n",
       "      <th>Sub_metering_2</th>\n",
       "      <th>Sub_metering_3</th>\n",
       "    </tr>\n",
       "  </thead>\n",
       "  <tbody>\n",
       "    <tr>\n",
       "      <th>1</th>\n",
       "      <td>2006-12-16</td>\n",
       "      <td>17:25:00</td>\n",
       "      <td>5.360</td>\n",
       "      <td>0.436</td>\n",
       "      <td>233.63</td>\n",
       "      <td>23.0</td>\n",
       "      <td>0.0</td>\n",
       "      <td>1.0</td>\n",
       "      <td>16.0</td>\n",
       "    </tr>\n",
       "    <tr>\n",
       "      <th>2</th>\n",
       "      <td>2006-12-16</td>\n",
       "      <td>17:26:00</td>\n",
       "      <td>5.374</td>\n",
       "      <td>0.498</td>\n",
       "      <td>233.29</td>\n",
       "      <td>23.0</td>\n",
       "      <td>0.0</td>\n",
       "      <td>2.0</td>\n",
       "      <td>17.0</td>\n",
       "    </tr>\n",
       "    <tr>\n",
       "      <th>3</th>\n",
       "      <td>2006-12-16</td>\n",
       "      <td>17:27:00</td>\n",
       "      <td>5.388</td>\n",
       "      <td>0.502</td>\n",
       "      <td>233.74</td>\n",
       "      <td>23.0</td>\n",
       "      <td>0.0</td>\n",
       "      <td>1.0</td>\n",
       "      <td>17.0</td>\n",
       "    </tr>\n",
       "    <tr>\n",
       "      <th>11</th>\n",
       "      <td>2006-12-16</td>\n",
       "      <td>17:35:00</td>\n",
       "      <td>5.412</td>\n",
       "      <td>0.470</td>\n",
       "      <td>232.78</td>\n",
       "      <td>23.2</td>\n",
       "      <td>0.0</td>\n",
       "      <td>1.0</td>\n",
       "      <td>17.0</td>\n",
       "    </tr>\n",
       "    <tr>\n",
       "      <th>12</th>\n",
       "      <td>2006-12-16</td>\n",
       "      <td>17:36:00</td>\n",
       "      <td>5.224</td>\n",
       "      <td>0.478</td>\n",
       "      <td>232.99</td>\n",
       "      <td>22.4</td>\n",
       "      <td>0.0</td>\n",
       "      <td>1.0</td>\n",
       "      <td>16.0</td>\n",
       "    </tr>\n",
       "  </tbody>\n",
       "</table>\n",
       "</div>"
      ],
      "text/plain": [
       "         Date      Time  Global_active_power  Global_reactive_power  Voltage  \\\n",
       "1  2006-12-16  17:25:00                5.360                  0.436   233.63   \n",
       "2  2006-12-16  17:26:00                5.374                  0.498   233.29   \n",
       "3  2006-12-16  17:27:00                5.388                  0.502   233.74   \n",
       "11 2006-12-16  17:35:00                5.412                  0.470   232.78   \n",
       "12 2006-12-16  17:36:00                5.224                  0.478   232.99   \n",
       "\n",
       "    Global_intensity  Sub_metering_1  Sub_metering_2  Sub_metering_3  \n",
       "1               23.0             0.0             1.0            16.0  \n",
       "2               23.0             0.0             2.0            17.0  \n",
       "3               23.0             0.0             1.0            17.0  \n",
       "11              23.2             0.0             1.0            17.0  \n",
       "12              22.4             0.0             1.0            16.0  "
      ]
     },
     "execution_count": 25,
     "metadata": {},
     "output_type": "execute_result"
    }
   ],
   "source": [
    "%%time\n",
    "filtered_p1 = dfp[dfp[\"Global_active_power\"] > 5]\n",
    "filtered_p1.head()"
   ]
  },
  {
   "cell_type": "markdown",
   "id": "224a11e3",
   "metadata": {},
   "source": [
    "NumPy"
   ]
  },
  {
   "cell_type": "code",
   "execution_count": 31,
   "id": "86a8431a",
   "metadata": {},
   "outputs": [
    {
     "name": "stdout",
     "output_type": "stream",
     "text": [
      "[('16/12/2006', '17:25:00', 5.36 , 0.436, 233.63, 23. , 0., 1., 16.)\n",
      " ('16/12/2006', '17:26:00', 5.374, 0.498, 233.29, 23. , 0., 2., 17.)\n",
      " ('16/12/2006', '17:27:00', 5.388, 0.502, 233.74, 23. , 0., 1., 17.)\n",
      " ('16/12/2006', '17:35:00', 5.412, 0.47 , 232.78, 23.2, 0., 1., 17.)\n",
      " ('16/12/2006', '17:36:00', 5.224, 0.478, 232.99, 22.4, 0., 1., 16.)]\n",
      "CPU times: total: 46.9 ms\n",
      "Wall time: 21.3 ms\n"
     ]
    }
   ],
   "source": [
    "%%time\n",
    "filtered_n1 = dfn[dfn[\"Global_active_power\"] > 5]\n",
    "print(filtered_n1[:5])"
   ]
  },
  {
   "cell_type": "markdown",
   "id": "a8ff4737",
   "metadata": {},
   "source": [
    "Обрати всі записи, у яких вольтаж перевищую 235 В."
   ]
  },
  {
   "cell_type": "markdown",
   "id": "67c0887c",
   "metadata": {},
   "source": [
    "Pandas"
   ]
  },
  {
   "cell_type": "code",
   "execution_count": 11,
   "id": "9385d3c6",
   "metadata": {},
   "outputs": [
    {
     "name": "stdout",
     "output_type": "stream",
     "text": [
      "CPU times: total: 219 ms\n",
      "Wall time: 348 ms\n"
     ]
    },
    {
     "data": {
      "text/html": [
       "<div>\n",
       "<style scoped>\n",
       "    .dataframe tbody tr th:only-of-type {\n",
       "        vertical-align: middle;\n",
       "    }\n",
       "\n",
       "    .dataframe tbody tr th {\n",
       "        vertical-align: top;\n",
       "    }\n",
       "\n",
       "    .dataframe thead th {\n",
       "        text-align: right;\n",
       "    }\n",
       "</style>\n",
       "<table border=\"1\" class=\"dataframe\">\n",
       "  <thead>\n",
       "    <tr style=\"text-align: right;\">\n",
       "      <th></th>\n",
       "      <th>Date</th>\n",
       "      <th>Time</th>\n",
       "      <th>Global_active_power</th>\n",
       "      <th>Global_reactive_power</th>\n",
       "      <th>Voltage</th>\n",
       "      <th>Global_intensity</th>\n",
       "      <th>Sub_metering_1</th>\n",
       "      <th>Sub_metering_2</th>\n",
       "      <th>Sub_metering_3</th>\n",
       "    </tr>\n",
       "  </thead>\n",
       "  <tbody>\n",
       "    <tr>\n",
       "      <th>4</th>\n",
       "      <td>2006-12-16</td>\n",
       "      <td>17:28:00</td>\n",
       "      <td>3.666</td>\n",
       "      <td>0.528</td>\n",
       "      <td>235.68</td>\n",
       "      <td>15.8</td>\n",
       "      <td>0.0</td>\n",
       "      <td>1.0</td>\n",
       "      <td>17.0</td>\n",
       "    </tr>\n",
       "    <tr>\n",
       "      <th>5</th>\n",
       "      <td>2006-12-16</td>\n",
       "      <td>17:29:00</td>\n",
       "      <td>3.520</td>\n",
       "      <td>0.522</td>\n",
       "      <td>235.02</td>\n",
       "      <td>15.0</td>\n",
       "      <td>0.0</td>\n",
       "      <td>2.0</td>\n",
       "      <td>17.0</td>\n",
       "    </tr>\n",
       "    <tr>\n",
       "      <th>6</th>\n",
       "      <td>2006-12-16</td>\n",
       "      <td>17:30:00</td>\n",
       "      <td>3.702</td>\n",
       "      <td>0.520</td>\n",
       "      <td>235.09</td>\n",
       "      <td>15.8</td>\n",
       "      <td>0.0</td>\n",
       "      <td>1.0</td>\n",
       "      <td>17.0</td>\n",
       "    </tr>\n",
       "    <tr>\n",
       "      <th>7</th>\n",
       "      <td>2006-12-16</td>\n",
       "      <td>17:31:00</td>\n",
       "      <td>3.700</td>\n",
       "      <td>0.520</td>\n",
       "      <td>235.22</td>\n",
       "      <td>15.8</td>\n",
       "      <td>0.0</td>\n",
       "      <td>1.0</td>\n",
       "      <td>17.0</td>\n",
       "    </tr>\n",
       "    <tr>\n",
       "      <th>14</th>\n",
       "      <td>2006-12-16</td>\n",
       "      <td>17:38:00</td>\n",
       "      <td>4.054</td>\n",
       "      <td>0.422</td>\n",
       "      <td>235.24</td>\n",
       "      <td>17.6</td>\n",
       "      <td>0.0</td>\n",
       "      <td>1.0</td>\n",
       "      <td>17.0</td>\n",
       "    </tr>\n",
       "  </tbody>\n",
       "</table>\n",
       "</div>"
      ],
      "text/plain": [
       "         Date      Time  Global_active_power  Global_reactive_power  Voltage  \\\n",
       "4  2006-12-16  17:28:00                3.666                  0.528   235.68   \n",
       "5  2006-12-16  17:29:00                3.520                  0.522   235.02   \n",
       "6  2006-12-16  17:30:00                3.702                  0.520   235.09   \n",
       "7  2006-12-16  17:31:00                3.700                  0.520   235.22   \n",
       "14 2006-12-16  17:38:00                4.054                  0.422   235.24   \n",
       "\n",
       "    Global_intensity  Sub_metering_1  Sub_metering_2  Sub_metering_3  \n",
       "4               15.8             0.0             1.0            17.0  \n",
       "5               15.0             0.0             2.0            17.0  \n",
       "6               15.8             0.0             1.0            17.0  \n",
       "7               15.8             0.0             1.0            17.0  \n",
       "14              17.6             0.0             1.0            17.0  "
      ]
     },
     "execution_count": 11,
     "metadata": {},
     "output_type": "execute_result"
    }
   ],
   "source": [
    "%%time\n",
    "filtered_p2 = dfp[dfp[\"Voltage\"] > 235]\n",
    "filtered_p2.head()"
   ]
  },
  {
   "cell_type": "markdown",
   "id": "d912b04e",
   "metadata": {},
   "source": [
    "NumPy"
   ]
  },
  {
   "cell_type": "code",
   "execution_count": 12,
   "id": "f1c614f8",
   "metadata": {},
   "outputs": [
    {
     "name": "stdout",
     "output_type": "stream",
     "text": [
      "CPU times: total: 172 ms\n",
      "Wall time: 174 ms\n"
     ]
    },
    {
     "data": {
      "text/plain": [
       "array([('16/12/2006', '17:28:00', 3.666, 0.528, 235.68, 15.8, 0., 1., 17.),\n",
       "       ('16/12/2006', '17:29:00', 3.52 , 0.522, 235.02, 15. , 0., 2., 17.),\n",
       "       ('16/12/2006', '17:30:00', 3.702, 0.52 , 235.09, 15.8, 0., 1., 17.),\n",
       "       ('16/12/2006', '17:31:00', 3.7  , 0.52 , 235.22, 15.8, 0., 1., 17.),\n",
       "       ('16/12/2006', '17:38:00', 4.054, 0.422, 235.24, 17.6, 0., 1., 17.)],\n",
       "      dtype=[('Date', '<U10'), ('Time', '<U8'), ('Global_active_power', '<f8'), ('Global_reactive_power', '<f8'), ('Voltage', '<f8'), ('Global_intensity', '<f8'), ('Sub_metering_1', '<f8'), ('Sub_metering_2', '<f8'), ('Sub_metering_3', '<f8')])"
      ]
     },
     "execution_count": 12,
     "metadata": {},
     "output_type": "execute_result"
    }
   ],
   "source": [
    "%%time\n",
    "filtered_n2 = dfn[dfn[\"Voltage\"] > 235]\n",
    "filtered_n2[:5]"
   ]
  },
  {
   "cell_type": "markdown",
   "id": "27786bb9",
   "metadata": {},
   "source": [
    "Обрати всі записи, у яких сила струму лежить в межах 19-20 А, для них виявити ті, у яких пральна машина та холодильних споживають більше, ніж бойлер та кондиціонер."
   ]
  },
  {
   "cell_type": "markdown",
   "id": "8b8c238f",
   "metadata": {},
   "source": [
    "Pandas"
   ]
  },
  {
   "cell_type": "code",
   "execution_count": 13,
   "id": "1b80b2b8",
   "metadata": {},
   "outputs": [
    {
     "name": "stdout",
     "output_type": "stream",
     "text": [
      "CPU times: total: 31.2 ms\n",
      "Wall time: 17.7 ms\n"
     ]
    },
    {
     "data": {
      "text/html": [
       "<div>\n",
       "<style scoped>\n",
       "    .dataframe tbody tr th:only-of-type {\n",
       "        vertical-align: middle;\n",
       "    }\n",
       "\n",
       "    .dataframe tbody tr th {\n",
       "        vertical-align: top;\n",
       "    }\n",
       "\n",
       "    .dataframe thead th {\n",
       "        text-align: right;\n",
       "    }\n",
       "</style>\n",
       "<table border=\"1\" class=\"dataframe\">\n",
       "  <thead>\n",
       "    <tr style=\"text-align: right;\">\n",
       "      <th></th>\n",
       "      <th>Date</th>\n",
       "      <th>Time</th>\n",
       "      <th>Global_active_power</th>\n",
       "      <th>Global_reactive_power</th>\n",
       "      <th>Voltage</th>\n",
       "      <th>Global_intensity</th>\n",
       "      <th>Sub_metering_1</th>\n",
       "      <th>Sub_metering_2</th>\n",
       "      <th>Sub_metering_3</th>\n",
       "    </tr>\n",
       "  </thead>\n",
       "  <tbody>\n",
       "    <tr>\n",
       "      <th>45</th>\n",
       "      <td>2006-12-16</td>\n",
       "      <td>18:09:00</td>\n",
       "      <td>4.464</td>\n",
       "      <td>0.136</td>\n",
       "      <td>234.66</td>\n",
       "      <td>19.0</td>\n",
       "      <td>0.0</td>\n",
       "      <td>37.0</td>\n",
       "      <td>16.0</td>\n",
       "    </tr>\n",
       "    <tr>\n",
       "      <th>460</th>\n",
       "      <td>2006-12-17</td>\n",
       "      <td>01:04:00</td>\n",
       "      <td>4.582</td>\n",
       "      <td>0.258</td>\n",
       "      <td>238.08</td>\n",
       "      <td>19.6</td>\n",
       "      <td>0.0</td>\n",
       "      <td>13.0</td>\n",
       "      <td>0.0</td>\n",
       "    </tr>\n",
       "    <tr>\n",
       "      <th>464</th>\n",
       "      <td>2006-12-17</td>\n",
       "      <td>01:08:00</td>\n",
       "      <td>4.618</td>\n",
       "      <td>0.104</td>\n",
       "      <td>239.61</td>\n",
       "      <td>19.6</td>\n",
       "      <td>0.0</td>\n",
       "      <td>27.0</td>\n",
       "      <td>0.0</td>\n",
       "    </tr>\n",
       "    <tr>\n",
       "      <th>475</th>\n",
       "      <td>2006-12-17</td>\n",
       "      <td>01:19:00</td>\n",
       "      <td>4.636</td>\n",
       "      <td>0.140</td>\n",
       "      <td>237.37</td>\n",
       "      <td>19.4</td>\n",
       "      <td>0.0</td>\n",
       "      <td>36.0</td>\n",
       "      <td>0.0</td>\n",
       "    </tr>\n",
       "    <tr>\n",
       "      <th>476</th>\n",
       "      <td>2006-12-17</td>\n",
       "      <td>01:20:00</td>\n",
       "      <td>4.634</td>\n",
       "      <td>0.152</td>\n",
       "      <td>237.17</td>\n",
       "      <td>19.4</td>\n",
       "      <td>0.0</td>\n",
       "      <td>35.0</td>\n",
       "      <td>0.0</td>\n",
       "    </tr>\n",
       "  </tbody>\n",
       "</table>\n",
       "</div>"
      ],
      "text/plain": [
       "          Date      Time  Global_active_power  Global_reactive_power  Voltage  \\\n",
       "45  2006-12-16  18:09:00                4.464                  0.136   234.66   \n",
       "460 2006-12-17  01:04:00                4.582                  0.258   238.08   \n",
       "464 2006-12-17  01:08:00                4.618                  0.104   239.61   \n",
       "475 2006-12-17  01:19:00                4.636                  0.140   237.37   \n",
       "476 2006-12-17  01:20:00                4.634                  0.152   237.17   \n",
       "\n",
       "     Global_intensity  Sub_metering_1  Sub_metering_2  Sub_metering_3  \n",
       "45               19.0             0.0            37.0            16.0  \n",
       "460              19.6             0.0            13.0             0.0  \n",
       "464              19.6             0.0            27.0             0.0  \n",
       "475              19.4             0.0            36.0             0.0  \n",
       "476              19.4             0.0            35.0             0.0  "
      ]
     },
     "execution_count": 13,
     "metadata": {},
     "output_type": "execute_result"
    }
   ],
   "source": [
    "%%time\n",
    "filtered_p3 = dfp[(dfp[\"Global_intensity\"] >= 19) & (dfp[\"Global_intensity\"] <= 20) & (dfp[\"Sub_metering_2\"] > dfp[\"Sub_metering_3\"])]\n",
    "filtered_p3.head()"
   ]
  },
  {
   "cell_type": "markdown",
   "id": "33587526",
   "metadata": {},
   "source": [
    "NumPy"
   ]
  },
  {
   "cell_type": "code",
   "execution_count": 14,
   "id": "e8fbc21d",
   "metadata": {},
   "outputs": [
    {
     "name": "stdout",
     "output_type": "stream",
     "text": [
      "[('16/12/2006', '18:09:00', 4.464, 0.136, 234.66, 19. , 0., 37., 16.)\n",
      " ('17/12/2006', '01:04:00', 4.582, 0.258, 238.08, 19.6, 0., 13.,  0.)\n",
      " ('17/12/2006', '01:08:00', 4.618, 0.104, 239.61, 19.6, 0., 27.,  0.)\n",
      " ('17/12/2006', '01:19:00', 4.636, 0.14 , 237.37, 19.4, 0., 36.,  0.)\n",
      " ('17/12/2006', '01:20:00', 4.634, 0.152, 237.17, 19.4, 0., 35.,  0.)]\n",
      "CPU times: total: 62.5 ms\n",
      "Wall time: 62.5 ms\n"
     ]
    }
   ],
   "source": [
    "%%time\n",
    "filtered_n3 = dfn[(dfn[\"Global_intensity\"] >= 19) & (dfn[\"Global_intensity\"] <= 20) & (dfn[\"Sub_metering_2\"] > dfn[\"Sub_metering_3\"])]\n",
    "print(filtered_n3[:5])"
   ]
  },
  {
   "cell_type": "markdown",
   "id": "769c50ed",
   "metadata": {},
   "source": [
    "Обрати випадковим чином 500000 записів (без повторів елементів вибірки), для них обчислити середні величини усіх 3-х груп споживання електричної енергії."
   ]
  },
  {
   "cell_type": "markdown",
   "id": "3cb9856f",
   "metadata": {},
   "source": [
    "Pandas"
   ]
  },
  {
   "cell_type": "code",
   "execution_count": 15,
   "id": "418c7914",
   "metadata": {},
   "outputs": [
    {
     "name": "stdout",
     "output_type": "stream",
     "text": [
      "Середнє значення Sub_metering_1: 1.119\n",
      "Середнє значення Sub_metering_2: 1.303\n",
      "Середнє значення Sub_metering_3: 6.474\n",
      "CPU times: total: 234 ms\n",
      "Wall time: 240 ms\n"
     ]
    }
   ],
   "source": [
    "%%time\n",
    "random_dfp = dfp.sample(n=500000)\n",
    "\n",
    "mean_sub_metering_1 = random_dfp['Sub_metering_1'].mean()\n",
    "mean_sub_metering_2 = random_dfp['Sub_metering_2'].mean()\n",
    "mean_sub_metering_3 = random_dfp['Sub_metering_3'].mean()\n",
    "\n",
    "print(f\"Середнє значення Sub_metering_1: {mean_sub_metering_1:.3f}\")\n",
    "print(f\"Середнє значення Sub_metering_2: {mean_sub_metering_2:.3f}\")\n",
    "print(f\"Середнє значення Sub_metering_3: {mean_sub_metering_3:.3f}\")\n"
   ]
  },
  {
   "cell_type": "markdown",
   "id": "b217560e",
   "metadata": {},
   "source": [
    "NumPy"
   ]
  },
  {
   "cell_type": "code",
   "execution_count": 16,
   "id": "ebe81acd",
   "metadata": {},
   "outputs": [
    {
     "name": "stdout",
     "output_type": "stream",
     "text": [
      "Середнє значення Sub_metering_1: 1.123\n",
      "Середнє значення Sub_metering_2: 1.299\n",
      "Середнє значення Sub_metering_3: 6.460\n",
      "CPU times: total: 266 ms\n",
      "Wall time: 281 ms\n"
     ]
    }
   ],
   "source": [
    "%%time\n",
    "random_indices = np.random.choice(len(dfn), size=500000, replace=False)\n",
    "random_dfn = dfn[random_indices]\n",
    "\n",
    "mean_sub_metering_1 = np.mean(random_dfn['Sub_metering_1'])\n",
    "mean_sub_metering_2 = np.mean(random_dfn['Sub_metering_2'])\n",
    "mean_sub_metering_3 = np.mean(random_dfn['Sub_metering_3'])\n",
    "\n",
    "print(f\"Середнє значення Sub_metering_1: {mean_sub_metering_1:.3f}\")\n",
    "print(f\"Середнє значення Sub_metering_2: {mean_sub_metering_2:.3f}\")\n",
    "print(f\"Середнє значення Sub_metering_3: {mean_sub_metering_3:.3f}\")\n"
   ]
  },
  {
   "cell_type": "markdown",
   "id": "74cc8e59",
   "metadata": {},
   "source": [
    "Обрати ті записи, які після 18-00 споживають понад 6 кВт за хвилину в середньому, серед відібраних визначити ті, у яких основне споживання електроенергії у вказаний проміжок часу припадає на пральну машину, сушарку, холодильник та освітлення (група 2 є найбільшою), а потім обрати кожен третій результат із першої половини та кожен четвертий результат із другої половини."
   ]
  },
  {
   "cell_type": "markdown",
   "id": "4532e253",
   "metadata": {},
   "source": [
    "Pandas"
   ]
  },
  {
   "cell_type": "code",
   "execution_count": null,
   "id": "ddc383a5",
   "metadata": {},
   "outputs": [
    {
     "name": "stdout",
     "output_type": "stream",
     "text": [
      "CPU times: total: 750 ms\n",
      "Wall time: 957 ms\n"
     ]
    },
    {
     "data": {
      "text/html": [
       "<div>\n",
       "<style scoped>\n",
       "    .dataframe tbody tr th:only-of-type {\n",
       "        vertical-align: middle;\n",
       "    }\n",
       "\n",
       "    .dataframe tbody tr th {\n",
       "        vertical-align: top;\n",
       "    }\n",
       "\n",
       "    .dataframe thead th {\n",
       "        text-align: right;\n",
       "    }\n",
       "</style>\n",
       "<table border=\"1\" class=\"dataframe\">\n",
       "  <thead>\n",
       "    <tr style=\"text-align: right;\">\n",
       "      <th></th>\n",
       "      <th>Date</th>\n",
       "      <th>Time</th>\n",
       "      <th>Global_active_power</th>\n",
       "      <th>Global_reactive_power</th>\n",
       "      <th>Voltage</th>\n",
       "      <th>Global_intensity</th>\n",
       "      <th>Sub_metering_1</th>\n",
       "      <th>Sub_metering_2</th>\n",
       "      <th>Sub_metering_3</th>\n",
       "    </tr>\n",
       "  </thead>\n",
       "  <tbody>\n",
       "    <tr>\n",
       "      <th>41</th>\n",
       "      <td>2006-12-16</td>\n",
       "      <td>18:05:00</td>\n",
       "      <td>6.052</td>\n",
       "      <td>0.192</td>\n",
       "      <td>232.93</td>\n",
       "      <td>26.2</td>\n",
       "      <td>0.0</td>\n",
       "      <td>37.0</td>\n",
       "      <td>17.0</td>\n",
       "    </tr>\n",
       "    <tr>\n",
       "      <th>44</th>\n",
       "      <td>2006-12-16</td>\n",
       "      <td>18:08:00</td>\n",
       "      <td>6.308</td>\n",
       "      <td>0.116</td>\n",
       "      <td>232.25</td>\n",
       "      <td>27.0</td>\n",
       "      <td>0.0</td>\n",
       "      <td>36.0</td>\n",
       "      <td>17.0</td>\n",
       "    </tr>\n",
       "    <tr>\n",
       "      <th>17494</th>\n",
       "      <td>2006-12-28</td>\n",
       "      <td>20:58:00</td>\n",
       "      <td>6.386</td>\n",
       "      <td>0.374</td>\n",
       "      <td>236.63</td>\n",
       "      <td>27.0</td>\n",
       "      <td>1.0</td>\n",
       "      <td>36.0</td>\n",
       "      <td>17.0</td>\n",
       "    </tr>\n",
       "    <tr>\n",
       "      <th>17498</th>\n",
       "      <td>2006-12-28</td>\n",
       "      <td>21:02:00</td>\n",
       "      <td>8.088</td>\n",
       "      <td>0.262</td>\n",
       "      <td>235.50</td>\n",
       "      <td>34.4</td>\n",
       "      <td>1.0</td>\n",
       "      <td>72.0</td>\n",
       "      <td>17.0</td>\n",
       "    </tr>\n",
       "    <tr>\n",
       "      <th>17501</th>\n",
       "      <td>2006-12-28</td>\n",
       "      <td>21:05:00</td>\n",
       "      <td>7.230</td>\n",
       "      <td>0.152</td>\n",
       "      <td>235.22</td>\n",
       "      <td>30.6</td>\n",
       "      <td>1.0</td>\n",
       "      <td>73.0</td>\n",
       "      <td>17.0</td>\n",
       "    </tr>\n",
       "  </tbody>\n",
       "</table>\n",
       "</div>"
      ],
      "text/plain": [
       "            Date      Time  Global_active_power  Global_reactive_power  \\\n",
       "41    2006-12-16  18:05:00                6.052                  0.192   \n",
       "44    2006-12-16  18:08:00                6.308                  0.116   \n",
       "17494 2006-12-28  20:58:00                6.386                  0.374   \n",
       "17498 2006-12-28  21:02:00                8.088                  0.262   \n",
       "17501 2006-12-28  21:05:00                7.230                  0.152   \n",
       "\n",
       "       Voltage  Global_intensity  Sub_metering_1  Sub_metering_2  \\\n",
       "41      232.93              26.2             0.0            37.0   \n",
       "44      232.25              27.0             0.0            36.0   \n",
       "17494   236.63              27.0             1.0            36.0   \n",
       "17498   235.50              34.4             1.0            72.0   \n",
       "17501   235.22              30.6             1.0            73.0   \n",
       "\n",
       "       Sub_metering_3  \n",
       "41               17.0  \n",
       "44               17.0  \n",
       "17494            17.0  \n",
       "17498            17.0  \n",
       "17501            17.0  "
      ]
     },
     "execution_count": 32,
     "metadata": {},
     "output_type": "execute_result"
    }
   ],
   "source": [
    "%%time\n",
    "filtered_p5 = dfp[(dfp[\"Global_active_power\"] > 6) & (dfp[\"Time\"].apply(lambda x: x.hour) >= 18) & (dfp[\"Sub_metering_2\"] > dfp[\"Sub_metering_1\"]) & (dfp[\"Sub_metering_2\"] > dfp[\"Sub_metering_3\"])]\n",
    "\n",
    "halfway = len(filtered_p5) // 2\n",
    "first_half = filtered_p5[:halfway]\n",
    "second_half = filtered_p5[halfway:]\n",
    "\n",
    "first_half = first_half.iloc[::3]\n",
    "second_half = second_half.iloc[::4]\n",
    "\n",
    "result_p5 = pd.concat([first_half, second_half])\n",
    "\n",
    "result_p5.head()"
   ]
  },
  {
   "cell_type": "markdown",
   "id": "34ac19df",
   "metadata": {},
   "source": [
    "NumPy"
   ]
  },
  {
   "cell_type": "code",
   "execution_count": 18,
   "id": "45967998",
   "metadata": {},
   "outputs": [
    {
     "name": "stdout",
     "output_type": "stream",
     "text": [
      "[('16/12/2006', '18:05:00', 6.052, 0.192, 232.93, 26.2, 0., 37., 17.)\n",
      " ('16/12/2006', '18:08:00', 6.308, 0.116, 232.25, 27. , 0., 36., 17.)\n",
      " ('28/12/2006', '20:58:00', 6.386, 0.374, 236.63, 27. , 1., 36., 17.)\n",
      " ('28/12/2006', '21:02:00', 8.088, 0.262, 235.5 , 34.4, 1., 72., 17.)\n",
      " ('28/12/2006', '21:05:00', 7.23 , 0.152, 235.22, 30.6, 1., 73., 17.)]\n",
      "CPU times: total: 1.58 s\n",
      "Wall time: 1.7 s\n"
     ]
    }
   ],
   "source": [
    "%%time\n",
    "hours = np.array([int(t.split(\":\")[0]) for t in dfn[\"Time\"]])\n",
    "filtered_n5 = dfn[(dfn[\"Global_active_power\"] > 6) & (hours >= 18) & (dfn[\"Sub_metering_2\"] > dfn[\"Sub_metering_1\"]) & (dfn[\"Sub_metering_2\"] > dfn[\"Sub_metering_3\"])]\n",
    "\n",
    "halfway = len(filtered_n5) // 2\n",
    "first_half = filtered_n5[:halfway]\n",
    "second_half = filtered_n5[halfway:]\n",
    "\n",
    "first_half = first_half[::3]\n",
    "second_half = second_half[::4]\n",
    "\n",
    "result_n5 = np.concatenate((first_half, second_half))\n",
    "\n",
    "print(result_n5[:5])"
   ]
  }
 ],
 "metadata": {
  "kernelspec": {
   "display_name": "Python 3",
   "language": "python",
   "name": "python3"
  },
  "language_info": {
   "codemirror_mode": {
    "name": "ipython",
    "version": 3
   },
   "file_extension": ".py",
   "mimetype": "text/x-python",
   "name": "python",
   "nbconvert_exporter": "python",
   "pygments_lexer": "ipython3",
   "version": "3.13.2"
  }
 },
 "nbformat": 4,
 "nbformat_minor": 5
}
