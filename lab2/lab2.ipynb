{
 "cells": [
  {
   "cell_type": "markdown",
   "metadata": {},
   "source": [
    "Лаборатона робота №2\n",
    "\n",
    "Виконав студент групи ФБ-35 Куб'юк Дмитро"
   ]
  },
  {
   "cell_type": "markdown",
   "metadata": {},
   "source": [
    "Для кожної із адміністративних одиниць України завантажити тестові структуровані файли, що містять значення VHI-індексу. Ця процедура має бути автоматизована, параметром процедури має бути індекс (номер) області. При зберіганні файлу до його імені потрібно додати дату та час завантаження."
   ]
  },
  {
   "cell_type": "code",
   "execution_count": 16,
   "metadata": {},
   "outputs": [],
   "source": [
    "import urllib.request\n",
    "import datetime\n",
    "import os\n",
    "import pandas as pd"
   ]
  },
  {
   "cell_type": "code",
   "execution_count": 17,
   "metadata": {},
   "outputs": [
    {
     "name": "stdout",
     "output_type": "stream",
     "text": [
      "VHI for provinceID=1 is downloaded to downloads\\vhi_id_1_11-03-2025_11-49-10.csv...\n",
      "VHI for provinceID=2 is downloaded to downloads\\vhi_id_2_11-03-2025_11-49-11.csv...\n",
      "VHI for provinceID=3 is downloaded to downloads\\vhi_id_3_11-03-2025_11-49-12.csv...\n",
      "VHI for provinceID=4 is downloaded to downloads\\vhi_id_4_11-03-2025_11-49-13.csv...\n",
      "VHI for provinceID=5 is downloaded to downloads\\vhi_id_5_11-03-2025_11-49-14.csv...\n",
      "VHI for provinceID=6 is downloaded to downloads\\vhi_id_6_11-03-2025_11-49-15.csv...\n",
      "VHI for provinceID=7 is downloaded to downloads\\vhi_id_7_11-03-2025_11-49-15.csv...\n",
      "VHI for provinceID=8 is downloaded to downloads\\vhi_id_8_11-03-2025_11-49-16.csv...\n",
      "VHI for provinceID=9 is downloaded to downloads\\vhi_id_9_11-03-2025_11-49-17.csv...\n",
      "VHI for provinceID=10 is downloaded to downloads\\vhi_id_10_11-03-2025_11-49-18.csv...\n",
      "VHI for provinceID=11 is downloaded to downloads\\vhi_id_11_11-03-2025_11-49-19.csv...\n",
      "VHI for provinceID=12 is downloaded to downloads\\vhi_id_12_11-03-2025_11-49-20.csv...\n",
      "VHI for provinceID=13 is downloaded to downloads\\vhi_id_13_11-03-2025_11-49-21.csv...\n",
      "VHI for provinceID=14 is downloaded to downloads\\vhi_id_14_11-03-2025_11-49-22.csv...\n",
      "VHI for provinceID=15 is downloaded to downloads\\vhi_id_15_11-03-2025_11-49-23.csv...\n",
      "VHI for provinceID=16 is downloaded to downloads\\vhi_id_16_11-03-2025_11-49-24.csv...\n",
      "VHI for provinceID=17 is downloaded to downloads\\vhi_id_17_11-03-2025_11-49-25.csv...\n",
      "VHI for provinceID=18 is downloaded to downloads\\vhi_id_18_11-03-2025_11-49-26.csv...\n",
      "VHI for provinceID=19 is downloaded to downloads\\vhi_id_19_11-03-2025_11-49-26.csv...\n",
      "VHI for provinceID=20 is downloaded to downloads\\vhi_id_20_11-03-2025_11-49-27.csv...\n",
      "VHI for provinceID=21 is downloaded to downloads\\vhi_id_21_11-03-2025_11-49-28.csv...\n",
      "VHI for provinceID=22 is downloaded to downloads\\vhi_id_22_11-03-2025_11-49-29.csv...\n",
      "VHI for provinceID=23 is downloaded to downloads\\vhi_id_23_11-03-2025_11-49-30.csv...\n",
      "VHI for provinceID=24 is downloaded to downloads\\vhi_id_24_11-03-2025_11-49-32.csv...\n",
      "VHI for provinceID=25 is downloaded to downloads\\vhi_id_25_11-03-2025_11-49-33.csv...\n",
      "VHI for provinceID=26 is downloaded to downloads\\vhi_id_26_11-03-2025_11-49-34.csv...\n",
      "VHI for provinceID=27 is downloaded to downloads\\vhi_id_27_11-03-2025_11-49-35.csv...\n"
     ]
    }
   ],
   "source": [
    "os.makedirs(\"downloads\")\n",
    "\n",
    "def download(n):\n",
    "    time = datetime.datetime.now().strftime(\"%d-%m-%Y_%H-%M-%S\")\n",
    "    url = f\"https://www.star.nesdis.noaa.gov/smcd/emb/vci/VH/get_TS_admin.php?country=UKR&provinceID={n}&year1=1981&year2=2025&type=Mean\"\n",
    "    vhi_url = urllib.request.urlopen(url)\n",
    "    \n",
    "    out_path = os.path.join(\"downloads\", f\"vhi_id_{n}_{time}.csv\")\n",
    "    with open(out_path, 'wb') as out:\n",
    "        out.write(vhi_url.read()) \n",
    "    print(f\"VHI for provinceID={n} is downloaded to {out_path}...\")\n",
    "\n",
    "for i in range(1, 28):\n",
    "    download(i)\n"
   ]
  },
  {
   "cell_type": "markdown",
   "metadata": {},
   "source": [
    "Зчитати завантажені текстові файли у фрейм. Імена стовбців фрейму мають бути змістовними та легкими для сприйняття (не повинно бути спеціалізованих символів, пробілів тощо). Ця задача має бути реалізована у вигляді окремої процедури, яка на вхід приймає шлях до директорії, в якій зберігаються файли;"
   ]
  },
  {
   "cell_type": "code",
   "execution_count": 18,
   "metadata": {},
   "outputs": [
    {
     "name": "stdout",
     "output_type": "stream",
     "text": [
      "       Year  Week    SMN     SMT    VCI    TCI    VHI area\n",
      "0      1982   1.0  0.059  258.24  51.11  48.78  49.95   10\n",
      "1      1982   2.0  0.063  261.53  55.89  38.20  47.04   10\n",
      "2      1982   3.0  0.063  263.45  57.30  32.69  44.99   10\n",
      "3      1982   4.0  0.061  265.10  53.96  28.62  41.29   10\n",
      "4      1982   5.0  0.058  266.42  46.87  28.57  37.72   10\n",
      "...     ...   ...    ...     ...    ...    ...    ...  ...\n",
      "59260  2025   5.0  0.120  275.94  71.30   5.61  38.45    9\n",
      "59261  2025   6.0  0.127  276.50  70.87   8.66  39.76    9\n",
      "59262  2025   7.0  0.134  277.28  69.12  12.84  40.98    9\n",
      "59263  2025   8.0  0.142  277.91  66.11  18.50  42.30    9\n",
      "59264  2025   9.0  0.152  278.99  64.03  23.10  43.57    9\n",
      "\n",
      "[59265 rows x 8 columns]\n"
     ]
    }
   ],
   "source": [
    "def read(dir):\n",
    "    headers = ['Year', 'Week', 'SMN', 'SMT', 'VCI', 'TCI', 'VHI', 'empty']\n",
    "    files = os.listdir(dir)\n",
    "    dataframe = pd.DataFrame()\n",
    "\n",
    "    for file in files:\n",
    "        path = os.path.join(dir, file)\n",
    "        df = pd.read_csv(path, header = 1, names = headers)\n",
    "        df = df.drop(df.loc[df['VHI'] == -1].index)\n",
    "        df = df.drop(columns=['empty'])\n",
    "        df = df.dropna()\n",
    "        df['area'] = file.split(\"_\")[2]\n",
    "        df['Year'] = df['Year'].str.replace('<tt><pre>', '').str.replace('</pre></tt>', '')\n",
    "        dataframe = pd.concat([dataframe, df], ignore_index=True).drop_duplicates()\n",
    "    return dataframe\n",
    "\n",
    "dataframe = read(\"downloads/\")\n",
    "print(dataframe)\n"
   ]
  },
  {
   "cell_type": "markdown",
   "metadata": {},
   "source": [
    "Реалізувати окрему процедуру, яка змінить індекси областей, які використані на порталі NOAA (за англійською абеткою) на наступні, за українською (виключно старі індекси на нові):"
   ]
  },
  {
   "cell_type": "code",
   "execution_count": 19,
   "metadata": {},
   "outputs": [
    {
     "name": "stdout",
     "output_type": "stream",
     "text": [
      "       Year  Week    SMN     SMT    VCI    TCI    VHI  area\n",
      "0      1982   1.0  0.059  258.24  51.11  48.78  49.95    21\n",
      "1      1982   2.0  0.063  261.53  55.89  38.20  47.04    21\n",
      "2      1982   3.0  0.063  263.45  57.30  32.69  44.99    21\n",
      "3      1982   4.0  0.061  265.10  53.96  28.62  41.29    21\n",
      "4      1982   5.0  0.058  266.42  46.87  28.57  37.72    21\n",
      "...     ...   ...    ...     ...    ...    ...    ...   ...\n",
      "59260  2025   5.0  0.120  275.94  71.30   5.61  38.45    20\n",
      "59261  2025   6.0  0.127  276.50  70.87   8.66  39.76    20\n",
      "59262  2025   7.0  0.134  277.28  69.12  12.84  40.98    20\n",
      "59263  2025   8.0  0.142  277.91  66.11  18.50  42.30    20\n",
      "59264  2025   9.0  0.152  278.99  64.03  23.10  43.57    20\n",
      "\n",
      "[54875 rows x 8 columns]\n"
     ]
    },
    {
     "name": "stderr",
     "output_type": "stream",
     "text": [
      "C:\\Users\\someone\\AppData\\Local\\Temp\\ipykernel_1300\\3309435147.py:28: FutureWarning: Downcasting behavior in `replace` is deprecated and will be removed in a future version. To retain the old behavior, explicitly call `result.infer_objects(copy=False)`. To opt-in to the future behavior, set `pd.set_option('future.no_silent_downcasting', True)`\n",
      "  dataframe['area'] = dataframe['area'].replace(reverse_indexes)\n"
     ]
    }
   ],
   "source": [
    "old_indexes = {\n",
    "    1: \"Черкаська\", 2: \"Чернігівська\", 3: \"Чернівецька\", 4: \"Республіка Крим\",\n",
    "    5: \"Дніпропетровська\", 6: \"Донецька\", 7: \"Івано-Франківська\", 8: \"Харківська\",\n",
    "    9: \"Херсонська\", 10: \"Хмельницька\", 11: \"Київська\", 12: \"Київська\", 13: \"Кіровоградська\",\n",
    "    14: \"Луганська\", 15: \"Львівська\", 16: \"Миколаївська\", 17: \"Одеська\", 18: \"Полтавська\",\n",
    "    19: \"Рівненська\", 20: \"Севастополь\", 21: \"Сумська\", 22: \"Тернопільська\", 23: \"Закарпатська\",\n",
    "    24: \"Вінницька\", 25: \"Волинська\", 26: \"Запорізька\", 27: \"Житомирська\"\n",
    "}\n",
    "\n",
    "new_indexes = {\n",
    "    1: \"Вінницька\", 2: \"Волинська\", 3: \"Дніпропетровська\", 4: \"Донецька\",\n",
    "    5: \"Житомирська\", 6: \"Закарпатська\", 7: \"Запорізька\", 8: \"Івано-Франківська\",\n",
    "    9: \"Київська\", 10: \"Кіровоградська\", 11: \"Луганська\", 12: \"Львівська\",\n",
    "    13: \"Миколаївська\", 14: \"Одеська\", 15: \"Полтавська\", 16: \"Рівненська\",\n",
    "    17: \"Сумська\", 18: \"Тернопільська\", 19: \"Харківська\", 20: \"Херсонська\",\n",
    "    21: \"Хмельницька\", 22: \"Черкаська\", 23: \"Чернівецька\", 24: \"Чернігівська\",\n",
    "    25: \"Республіка Крим\"\n",
    "}\n",
    "\n",
    "def replace_indexes(dataframe):\n",
    "    dataframe['area'] = dataframe['area'].astype(int)\n",
    "    dataframe = dataframe[dataframe['area'] != 11]\n",
    "    dataframe = dataframe[dataframe['area'] != 20]\n",
    "\n",
    "    dataframe['area'] = dataframe['area'].replace(old_indexes)\n",
    "\n",
    "    reverse_indexes = dict(map(lambda x: (x[1], x[0]), new_indexes.items()))\n",
    "    dataframe['area'] = dataframe['area'].replace(reverse_indexes)\n",
    "    \n",
    "    dataframe['area'] = dataframe['area'].astype(int)\n",
    "    return dataframe\n",
    "\n",
    "dataframe = replace_indexes(dataframe)\n",
    "print(dataframe)\n",
    "\n"
   ]
  },
  {
   "cell_type": "markdown",
   "metadata": {},
   "source": [
    "Реалізувати процедури для формування вибірок наступного виду (включаючи елементи аналізу):"
   ]
  },
  {
   "cell_type": "markdown",
   "metadata": {},
   "source": [
    "o Ряд VHI для області за вказаний рік;"
   ]
  },
  {
   "cell_type": "code",
   "execution_count": 20,
   "metadata": {},
   "outputs": [
    {
     "name": "stdout",
     "output_type": "stream",
     "text": [
      "       Year  Week    VHI  area\n",
      "23097  2005   1.0  50.17    22\n",
      "23098  2005   2.0  49.04    22\n",
      "23099  2005   3.0  48.78    22\n",
      "23100  2005   4.0  50.65    22\n",
      "23101  2005   5.0  51.51    22\n",
      "23102  2005   6.0  52.61    22\n",
      "23103  2005   7.0  52.88    22\n",
      "23104  2005   8.0  52.41    22\n",
      "23105  2005   9.0  53.67    22\n",
      "23106  2005  10.0  53.33    22\n",
      "23107  2005  11.0  51.48    22\n",
      "23108  2005  12.0  49.21    22\n",
      "23109  2005  13.0  48.57    22\n",
      "23110  2005  14.0  46.17    22\n",
      "23111  2005  15.0  42.12    22\n",
      "23112  2005  16.0  41.62    22\n",
      "23113  2005  18.0  50.94    22\n",
      "23114  2005  19.0  54.93    22\n",
      "23115  2005  20.0  55.55    22\n",
      "23116  2005  21.0  58.25    22\n",
      "23117  2005  22.0  60.97    22\n",
      "23118  2005  23.0  64.44    22\n",
      "23119  2005  24.0  66.86    22\n",
      "23120  2005  25.0  68.89    22\n",
      "23121  2005  26.0  68.79    22\n",
      "23122  2005  27.0  67.30    22\n",
      "23123  2005  28.0  65.88    22\n",
      "23124  2005  29.0  65.73    22\n",
      "23125  2005  30.0  64.03    22\n",
      "23126  2005  31.0  63.19    22\n",
      "23127  2005  32.0  61.87    22\n",
      "23128  2005  33.0  58.89    22\n",
      "23129  2005  34.0  55.46    22\n",
      "23130  2005  35.0  51.77    22\n",
      "23131  2005  36.0  47.72    22\n",
      "23132  2005  37.0  45.42    22\n",
      "23133  2005  38.0  44.07    22\n",
      "23134  2005  39.0  42.33    22\n",
      "23135  2005  40.0  42.31    22\n",
      "23136  2005  41.0  42.53    22\n",
      "23137  2005  42.0  44.33    22\n",
      "23138  2005  43.0  44.94    22\n",
      "23139  2005  44.0  43.74    22\n",
      "23140  2005  45.0  44.13    22\n",
      "23141  2005  46.0  43.42    22\n",
      "23142  2005  47.0  44.40    22\n",
      "23143  2005  48.0  46.66    22\n",
      "23144  2005  49.0  48.40    22\n",
      "23145  2005  50.0  48.92    22\n",
      "23146  2005  51.0  47.05    22\n",
      "23147  2005  52.0  45.21    22\n"
     ]
    }
   ],
   "source": [
    "def vhi_for_area(dataframe, area, year):\n",
    "    dataframe['Year'] = dataframe['Year'].astype(int)\n",
    "    filtered_data = dataframe[(dataframe['Year'] == year) & (dataframe['area'] == area)]\n",
    "    vhi_data = filtered_data[['Year', 'Week', 'VHI', 'area']]\n",
    "    return vhi_data\n",
    "\n",
    "print(vhi_for_area(dataframe, 22, 2005))"
   ]
  },
  {
   "cell_type": "markdown",
   "metadata": {},
   "source": [
    "o Пошук екстремумів (min та max) для вказаних областей та років, середнього, медіани;"
   ]
  },
  {
   "cell_type": "code",
   "execution_count": 21,
   "metadata": {},
   "outputs": [
    {
     "name": "stdout",
     "output_type": "stream",
     "text": [
      "Область: Волинська. Рік: 2005\n",
      " Мінімальне VHI: 43.14\n",
      " Максимальне VHI: 61.8\n",
      " Середнє VHI: 53.4186274509804\n",
      " Медіана VHI: 53.85\n",
      "\n",
      "Область: Дніпропетровська. Рік: 2005\n",
      " Мінімальне VHI: 29.78\n",
      " Максимальне VHI: 72.45\n",
      " Середнє VHI: 49.085686274509804\n",
      " Медіана VHI: 48.1\n",
      "\n",
      "Область: Черкаська. Рік: 2005\n",
      " Мінімальне VHI: 41.62\n",
      " Максимальне VHI: 68.89\n",
      " Середнє VHI: 52.22627450980393\n",
      " Медіана VHI: 50.65\n",
      "\n"
     ]
    },
    {
     "data": {
      "text/plain": [
       "0"
      ]
     },
     "execution_count": 21,
     "metadata": {},
     "output_type": "execute_result"
    }
   ],
   "source": [
    "def min_max_for_area(dataframe, areas, year):\n",
    "    for area in areas:\n",
    "        dataframe['Year'] = dataframe['Year'].astype(int)\n",
    "        filtered_data = dataframe[(dataframe['Year'] == year) & (dataframe['area'] == area)]\n",
    "        vhi_data = filtered_data['VHI']\n",
    "\n",
    "        min_vhi = vhi_data.min()\n",
    "        max_vhi = vhi_data.max()\n",
    "        average_vhi = vhi_data.mean()\n",
    "        median_vhi = vhi_data.median()\n",
    "\n",
    "        print(f\"Область: {new_indexes.get(area)}. Рік: {year}\")\n",
    "        print(f\" Мінімальне VHI: {min_vhi}\\n Максимальне VHI: {max_vhi}\\n Середнє VHI: {average_vhi}\\n Медіана VHI: {median_vhi}\\n\")\n",
    "    return 0\n",
    "\n",
    "areas = [2, 3, 22]\n",
    "min_max_for_area(dataframe, areas, 2005)\n"
   ]
  },
  {
   "cell_type": "markdown",
   "metadata": {},
   "source": [
    "o Ряд VHI за вказаний діапазон років для вказаних областей;"
   ]
  },
  {
   "cell_type": "code",
   "execution_count": 22,
   "metadata": {},
   "outputs": [
    {
     "name": "stdout",
     "output_type": "stream",
     "text": [
      "VHI для Волинська область за період 1990-2005\n",
      "       Year  Week    VHI  area\n",
      "35525  1990   1.0  36.42     2\n",
      "35526  1990   2.0  37.35     2\n",
      "35527  1990   3.0  38.97     2\n",
      "35528  1990   4.0  42.36     2\n",
      "35529  1990   5.0  44.08     2\n",
      "...     ...   ...    ...   ...\n",
      "36313  2005  48.0  48.73     2\n",
      "36314  2005  49.0  50.79     2\n",
      "36315  2005  50.0  50.95     2\n",
      "36316  2005  51.0  51.57     2\n",
      "36317  2005  52.0  52.03     2\n",
      "\n",
      "[793 rows x 4 columns]\n",
      "VHI для Дніпропетровська область за період 1990-2005\n",
      "       Year  Week    VHI  area\n",
      "48695  1990   1.0  40.88     3\n",
      "48696  1990   2.0  41.08     3\n",
      "48697  1990   3.0  41.28     3\n",
      "48698  1990   4.0  41.70     3\n",
      "48699  1990   5.0  41.75     3\n",
      "...     ...   ...    ...   ...\n",
      "49483  2005  48.0  40.70     3\n",
      "49484  2005  49.0  42.92     3\n",
      "49485  2005  50.0  41.13     3\n",
      "49486  2005  51.0  41.49     3\n",
      "49487  2005  52.0  44.08     3\n",
      "\n",
      "[793 rows x 4 columns]\n",
      "VHI для Черкаська область за період 1990-2005\n",
      "       Year  Week    VHI  area\n",
      "22355  1990   1.0  33.43    22\n",
      "22356  1990   2.0  32.38    22\n",
      "22357  1990   3.0  32.72    22\n",
      "22358  1990   4.0  33.31    22\n",
      "22359  1990   5.0  33.78    22\n",
      "...     ...   ...    ...   ...\n",
      "23143  2005  48.0  46.66    22\n",
      "23144  2005  49.0  48.40    22\n",
      "23145  2005  50.0  48.92    22\n",
      "23146  2005  51.0  47.05    22\n",
      "23147  2005  52.0  45.21    22\n",
      "\n",
      "[793 rows x 4 columns]\n"
     ]
    },
    {
     "data": {
      "text/plain": [
       "0"
      ]
     },
     "execution_count": 22,
     "metadata": {},
     "output_type": "execute_result"
    }
   ],
   "source": [
    "def vhi_for_area_range_years(dataframe, areas, startdate, finaldate):\n",
    "    dataframe['Year'] = dataframe['Year'].astype(int)\n",
    "    for area in areas:\n",
    "        filtered_data = dataframe[(dataframe['Year'] >= startdate) & (dataframe['Year'] <= finaldate) & (dataframe['area'] == area)]\n",
    "        vhi_data = filtered_data[['Year', 'Week', 'VHI', 'area']]\n",
    "        print(f\"VHI для {new_indexes.get(area)} область за період {startdate}-{finaldate}\")\n",
    "        print(vhi_data)\n",
    "    return 0\n",
    "\n",
    "areas = [2, 3, 22]\n",
    "vhi_for_area_range_years(dataframe, areas, 1990, 2005)"
   ]
  },
  {
   "cell_type": "markdown",
   "metadata": {},
   "source": [
    "o Для всього набору даних виявити роки, протягом яких екстремальні посухи торкнулися більше вказаного відсотка областей по Україні (20% областей - 5 областей з 25). Повернути роки, назви областей з екстремальними посухами та значення VHI;"
   ]
  },
  {
   "cell_type": "code",
   "execution_count": 23,
   "metadata": {},
   "outputs": [
    {
     "name": "stdout",
     "output_type": "stream",
     "text": [
      "    Year             area    VHI\n",
      "12  2007       Запорізька  10.88\n",
      "13  2007     Миколаївська   5.94\n",
      "14  2007          Одеська   5.52\n",
      "15  2007       Херсонська  12.23\n",
      "16  2007  Республіка Крим  13.28\n"
     ]
    },
    {
     "name": "stderr",
     "output_type": "stream",
     "text": [
      "C:\\Users\\someone\\AppData\\Local\\Temp\\ipykernel_1300\\3139253269.py:10: SettingWithCopyWarning: \n",
      "A value is trying to be set on a copy of a slice from a DataFrame.\n",
      "Try using .loc[row_indexer,col_indexer] = value instead\n",
      "\n",
      "See the caveats in the documentation: https://pandas.pydata.org/pandas-docs/stable/user_guide/indexing.html#returning-a-view-versus-a-copy\n",
      "  filtered_vhi_data['area'] = filtered_vhi_data['area'].replace(new_indexes)\n"
     ]
    }
   ],
   "source": [
    "def detect_extreme_droughts(dataframe):\n",
    "    extreme_drought_data = dataframe[dataframe['VHI'] < 15]\n",
    "    filtered_data = extreme_drought_data[['Year', 'area', 'VHI']]\n",
    "    vhi_data = filtered_data.groupby(['Year', 'area'])['VHI'].min().reset_index()\n",
    "\n",
    "    area_counts = vhi_data.groupby('Year')['area'].nunique()\n",
    "    years_with_enough_areas = area_counts[area_counts >= 5].index\n",
    "\n",
    "    filtered_vhi_data = vhi_data[vhi_data['Year'].isin(years_with_enough_areas)]\n",
    "    filtered_vhi_data['area'] = filtered_vhi_data['area'].replace(new_indexes)\n",
    "\n",
    "    print(filtered_vhi_data)\n",
    "\n",
    "detect_extreme_droughts(dataframe)\n"
   ]
  }
 ],
 "metadata": {
  "kernelspec": {
   "display_name": "Python 3",
   "language": "python",
   "name": "python3"
  },
  "language_info": {
   "codemirror_mode": {
    "name": "ipython",
    "version": 3
   },
   "file_extension": ".py",
   "mimetype": "text/x-python",
   "name": "python",
   "nbconvert_exporter": "python",
   "pygments_lexer": "ipython3",
   "version": "3.13.2"
  }
 },
 "nbformat": 4,
 "nbformat_minor": 2
}
